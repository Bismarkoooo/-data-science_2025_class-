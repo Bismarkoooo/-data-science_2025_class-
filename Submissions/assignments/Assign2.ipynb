{
  "nbformat": 4,
  "nbformat_minor": 0,
  "metadata": {
    "colab": {
      "provenance": []
    },
    "kernelspec": {
      "name": "python3",
      "display_name": "Python 3"
    },
    "language_info": {
      "name": "python"
    }
  },
  "cells": [
    {
      "cell_type": "code",
      "execution_count": 5,
      "metadata": {
        "outputId": "e6e8f25c-3a99-4546-df7f-1191885209f3",
        "colab": {
          "base_uri": "https://localhost:8080/"
        },
        "id": "xOjmzrA4Znhd"
      },
      "outputs": [
        {
          "output_type": "stream",
          "name": "stdout",
          "text": [
            "Vol: 94.24769999999998 SurfArea: 150.79631999999998\n"
          ]
        }
      ],
      "source": [
        "### **Assignment Instructions:**\n",
        "# 1. **Refactor the Code:**\n",
        "    #- **Improve Formatting:**\n",
        "        #- Separate multiple statements onto individual lines.\n",
        "        #- Ensure proper spacing around operators.\n",
        "    #- **Use Meaningful Variable Names:**\n",
        "        #- Rename variables like `r`, `h`, `vol`, and `sa` to more descriptive names (e.g., `radius`, `height`, `volume`, `surface_area`).\n",
        "    #- **Add Comments:**\n",
        "        #- Include comments that explain each part of the code (e.g., what the formulas compute).\n",
        "    #- **Enhance Readability:**\n",
        "        #- Structure the code in a way that it is easy to read and understand.\n",
        "#2. **Test Your Code:**\n",
        "    #- Run the refactored code to verify that it correctly computes and prints the cylinder’s volume and surface area.\n",
        "    #- Ensure that the functionality remains unchanged.\n",
        "\n",
        "\n",
        "# messy code to compute cylinder metrics\n",
        "radius = 3.0; height = 5\n",
        "volume = 3.14159 * radius * 2 * height; surface_area = 2 * 3.14159 * radius * (radius + height)\n",
        "print(\"Vol:\",volume,\"SurfArea:\", surface_area)"
      ]
    },
    {
      "cell_type": "code",
      "source": [],
      "metadata": {
        "id": "ePz7keRJaAAW"
      },
      "execution_count": null,
      "outputs": []
    }
  ]
}